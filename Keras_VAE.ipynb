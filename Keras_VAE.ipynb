{
 "cells": [
  {
   "cell_type": "code",
   "execution_count": 2,
   "metadata": {},
   "outputs": [
    {
     "name": "stdout",
     "output_type": "stream",
     "text": [
      "Extracting MNIST_data/train-images-idx3-ubyte.gz\n",
      "Extracting MNIST_data/train-labels-idx1-ubyte.gz\n",
      "Extracting MNIST_data/t10k-images-idx3-ubyte.gz\n",
      "Extracting MNIST_data/t10k-labels-idx1-ubyte.gz\n"
     ]
    }
   ],
   "source": [
    "import keras\n",
    "import numpy as np\n",
    "import os\n",
    "import matplotlib.gridspec as gridspec\n",
    "import tensorflow as tf\n",
    "import matplotlib.pyplot as plt\n",
    "#导入backend后端库\n",
    "import keras.backend as K\n",
    "#导入model类\n",
    "from keras.models import Model\n",
    "#需要的损失函数\n",
    "from keras.losses import binary_crossentropy\n",
    "#导入keras.layers中相关模块\n",
    "from keras.layers import Dense,Input,Lambda\n",
    "#导入优化器\n",
    "from keras.optimizers import Adam\n",
    "#导入callback回调函数\n",
    "import keras.callbacks as callb\n",
    "from tensorflow.examples.tutorials.mnist import input_data\n",
    "mnist = input_data.read_data_sets('MNIST_data/',one_hot=True)"
   ]
  },
  {
   "cell_type": "code",
   "execution_count": 3,
   "metadata": {
    "scrolled": true
   },
   "outputs": [
    {
     "name": "stdout",
     "output_type": "stream",
     "text": [
      "第20轮测试后结果：\n",
      "loss:0.0040\n",
      "\n",
      "第40轮测试后结果：\n",
      "loss:0.0040\n",
      "\n",
      "第60轮测试后结果：\n",
      "loss:0.0040\n",
      "\n",
      "第80轮测试后结果：\n",
      "loss:0.0040\n",
      "\n",
      "第100轮测试后结果：\n",
      "loss:0.0040\n",
      "\n"
     ]
    },
    {
     "data": {
      "text/plain": [
       "<keras.callbacks.History at 0x21121d92e10>"
      ]
     },
     "execution_count": 3,
     "metadata": {},
     "output_type": "execute_result"
    }
   ],
   "source": [
    "if not os.path.exists('out/'):\n",
    "    os.makedirs('out/')\n",
    "\n",
    "#画图方法\n",
    "def plot(samples):\n",
    "    fig = plt.figure(figsize=(4, 4))\n",
    "    gs = gridspec.GridSpec(4, 4)\n",
    "    gs.update(wspace=0.05, hspace=0.05)\n",
    "\n",
    "    for i, sample in enumerate(samples):\n",
    "        ax = plt.subplot(gs[i])\n",
    "        plt.axis('off')\n",
    "        ax.set_xticklabels([])\n",
    "        ax.set_yticklabels([])\n",
    "        ax.set_aspect('equal')\n",
    "        plt.imshow(sample.reshape(28, 28), cmap='Greys_r')\n",
    "    return fig\n",
    "\n",
    "#定义参数\n",
    "batch_size = 300\n",
    "epochs = 100\n",
    "step = 20\n",
    "input_dim = 784\n",
    "z_dim = 2\n",
    "input_shape = (input_dim,)\n",
    "z_shape = (z_dim,)\n",
    "\n",
    "\n",
    "#读取数据\n",
    "x_train = mnist.train.images\n",
    "x_test = mnist.test.images\n",
    "x_train /= 255.\n",
    "x_test /= 255.\n",
    "\n",
    "\n",
    "input_img = Input(input_shape)\n",
    "\n",
    "encode = Dense(512,activation='relu',\n",
    "                kernel_initializer=keras.initializers.TruncatedNormal(stddev=0.001))(input_img)\n",
    "encode = Dense(256,activation='relu',\n",
    "               kernel_initializer=keras.initializers.TruncatedNormal(stddev=0.001))(encode)\n",
    "\n",
    "mu = Dense(z_dim)(encode)\n",
    "logvar = Dense(z_dim)(encode)\n",
    "\n",
    "\n",
    "#自定义函数\n",
    "def get_z(args):\n",
    "    z_mu, z_logvar = args\n",
    "    epsilon = K.random_normal(shape=K.shape(z_mu))\n",
    "    return z_mu + K.exp(z_logvar / 2) * epsilon\n",
    "\n",
    "\n",
    "z = Lambda(get_z)([mu,logvar])\n",
    "\n",
    "decode_1 = Dense(256,activation='relu',\n",
    "               kernel_initializer=keras.initializers.TruncatedNormal(stddev=0.001))\n",
    "decode_2 = Dense(512,activation='relu',\n",
    "               kernel_initializer=keras.initializers.TruncatedNormal(stddev=0.001))\n",
    "decode_3 = Dense(input_dim,activation='sigmoid',\n",
    "               kernel_initializer=keras.initializers.TruncatedNormal(stddev=0.001))\n",
    "decode = decode_1(z)\n",
    "decode = decode_2(decode)\n",
    "logits = decode_3(decode)\n",
    "\n",
    "\n",
    "#修改优化器中的学习率\n",
    "adam = Adam(lr=0.001,decay=0.0005)\n",
    "#创建模型\n",
    "vae = Model(input_img,logits)\n",
    "\n",
    "\n",
    "def myloss(y_true,y_pred):\n",
    "    BCE = binary_crossentropy(y_true,y_pred)\n",
    "    #KL散度\n",
    "    KLD = 0.5*K.sum(K.pow(mu, 2) + K.exp(logvar) - 1 - logvar,1)\n",
    "    # VAE loss\n",
    "    return K.mean(KLD + BCE)\n",
    "\n",
    "\n",
    "#编译模型\n",
    "vae.compile(optimizer=adam,loss=myloss)\n",
    "\n",
    "#定义每轮结束操作\n",
    "def epoch_end_operation(epoch):\n",
    "    if epoch%step == 0:\n",
    "        loss = vae.evaluate(x_test,x_test,verbose=0)\n",
    "        print('第%s轮测试后结果：' % epoch)\n",
    "        print('loss:%.4f' % loss)\n",
    "        print()\n",
    "        i = 0\n",
    "        i += int(epoch/step)\n",
    "        test_z = np.random.randn(16, z_dim)\n",
    "        input_z = Input(z_shape)\n",
    "        test_decode = decode_1(input_z)\n",
    "        test_decode = decode_2(test_decode)\n",
    "        test_logits = decode_3(test_decode)\n",
    "        generate = Model(input_z,test_logits)\n",
    "        pred_samples = generate.predict(test_z)\n",
    "        fig = plot(pred_samples)\n",
    "        plt.savefig('out/{}.png'.format(str(i).zfill(3)), bbox_inches='tight')\n",
    "\n",
    "#自定义回调函数\n",
    "class Pred_Plot(callb.Callback):\n",
    "    def on_epoch_end(self, epoch, logs={}):\n",
    "        epoch_end_operation(epoch+1)\n",
    "        \n",
    "pred_plot = Pred_Plot()\n",
    "\n",
    "#需要执行的回调函数列表\n",
    "callback_list = [pred_plot]\n",
    "\n",
    "vae.fit(x_train,x_train,\n",
    "        batch_size=batch_size,\n",
    "        epochs=epochs,\n",
    "        verbose=0,\n",
    "        callbacks=callback_list)"
   ]
  },
  {
   "cell_type": "code",
   "execution_count": null,
   "metadata": {
    "collapsed": true
   },
   "outputs": [],
   "source": []
  },
  {
   "cell_type": "code",
   "execution_count": null,
   "metadata": {
    "collapsed": true
   },
   "outputs": [],
   "source": []
  }
 ],
 "metadata": {
  "celltoolbar": "Raw Cell Format",
  "kernelspec": {
   "display_name": "Python 3",
   "language": "python",
   "name": "python3"
  },
  "language_info": {
   "codemirror_mode": {
    "name": "ipython",
    "version": 3
   },
   "file_extension": ".py",
   "mimetype": "text/x-python",
   "name": "python",
   "nbconvert_exporter": "python",
   "pygments_lexer": "ipython3",
   "version": "3.6.2"
  }
 },
 "nbformat": 4,
 "nbformat_minor": 2
}
